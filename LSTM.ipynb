{
 "cells": [
  {
   "cell_type": "code",
   "execution_count": 77,
   "metadata": {},
   "outputs": [],
   "source": [
    "# used to initialize os and per IAM permissions + imports\n",
    "#\n",
    "import matplotlib.pyplot as plt\n",
    "from google.cloud import bigquery\n",
    "import os\n",
    "os.environ[\"GOOGLE_APPLICATION_CREDENTIALS\"]=\"/Users/vitorpedrosa/CLionProjects/Capstone/test1-339918-5b9c690dcff5.json\"\n",
    "import xgboost as xgb\n",
    "import pandas as pd\n",
    "from sklearn.model_selection import train_test_split"
   ]
  },
  {
   "cell_type": "code",
   "execution_count": 78,
   "metadata": {
    "pycharm": {
     "name": "#%%\n"
    }
   },
   "outputs": [
    {
     "data": {
      "text/plain": "        timekey          open          high           low         close\n185  2022-08-06  23192.803622  23196.936079  23188.319028  23192.540319\n186  2022-08-07  23083.130784  23087.343185  23079.037807  23083.300430\n187  2022-08-08  23399.562100  23406.211663  23394.678919  23400.880769\n188  2022-10-10  19201.857132  19206.326176  19196.397647  19201.551912\n189  2022-10-11  19077.840222  19082.571976  19072.802558  19077.729478",
      "text/html": "<div>\n<style scoped>\n    .dataframe tbody tr th:only-of-type {\n        vertical-align: middle;\n    }\n\n    .dataframe tbody tr th {\n        vertical-align: top;\n    }\n\n    .dataframe thead th {\n        text-align: right;\n    }\n</style>\n<table border=\"1\" class=\"dataframe\">\n  <thead>\n    <tr style=\"text-align: right;\">\n      <th></th>\n      <th>timekey</th>\n      <th>open</th>\n      <th>high</th>\n      <th>low</th>\n      <th>close</th>\n    </tr>\n  </thead>\n  <tbody>\n    <tr>\n      <th>185</th>\n      <td>2022-08-06</td>\n      <td>23192.803622</td>\n      <td>23196.936079</td>\n      <td>23188.319028</td>\n      <td>23192.540319</td>\n    </tr>\n    <tr>\n      <th>186</th>\n      <td>2022-08-07</td>\n      <td>23083.130784</td>\n      <td>23087.343185</td>\n      <td>23079.037807</td>\n      <td>23083.300430</td>\n    </tr>\n    <tr>\n      <th>187</th>\n      <td>2022-08-08</td>\n      <td>23399.562100</td>\n      <td>23406.211663</td>\n      <td>23394.678919</td>\n      <td>23400.880769</td>\n    </tr>\n    <tr>\n      <th>188</th>\n      <td>2022-10-10</td>\n      <td>19201.857132</td>\n      <td>19206.326176</td>\n      <td>19196.397647</td>\n      <td>19201.551912</td>\n    </tr>\n    <tr>\n      <th>189</th>\n      <td>2022-10-11</td>\n      <td>19077.840222</td>\n      <td>19082.571976</td>\n      <td>19072.802558</td>\n      <td>19077.729478</td>\n    </tr>\n  </tbody>\n</table>\n</div>"
     },
     "execution_count": 78,
     "metadata": {},
     "output_type": "execute_result"
    }
   ],
   "source": [
    "# Get Data from Big Query can be used to analyse results in either 5, 10. 15 or 30 minute intervals.\n",
    "#\n",
    "\n",
    "#queryString = \"\"\"SELECT  TIMESTAMP_SECONDS(60*60 * DIV(UNIX_SECONDS(time), 60*60)) timekey, AVG(open) as open, AVG(high) as high, AVG(low) as low, AVG(close) as close FROM `test1-339918.btcusd_data.btcusd_final` GROUP BY timekey\n",
    "     #;\"\"\"\n",
    "\n",
    "queryString = \"\"\"SELECT format_date(\"%Y-%m-%d\", time) timekey, AVG(open) as open, AVG(high) as high, AVG(low) as low, AVG(close) as close FROM `test1-339918.btcusd_data.btcusd_final` GROUP BY timekey ORDER BY 1\n",
    " ;\"\"\"\n",
    "\n",
    "bqclient = bigquery.Client()\n",
    "data = (\n",
    "    bqclient.query(queryString)\n",
    "\n",
    "        .result()\n",
    "        .to_dataframe(\n",
    "        create_bqstorage_client=True,\n",
    "    )\n",
    ")\n",
    "data.tail()"
   ]
  },
  {
   "cell_type": "code",
   "execution_count": 79,
   "metadata": {
    "pycharm": {
     "name": "#%%\n"
    }
   },
   "outputs": [],
   "source": [
    "y_bar = data['close']\n",
    "X = data.iloc[:,1:4]\n",
    "X['close'] = y_bar"
   ]
  },
  {
   "cell_type": "code",
   "execution_count": 80,
   "metadata": {
    "pycharm": {
     "name": "#%%\n"
    }
   },
   "outputs": [],
   "source": [
    "# Feature Scaling\n",
    "#\n",
    "from sklearn.preprocessing import StandardScaler\n",
    "sc = StandardScaler()\n",
    "X_fts = sc.fit_transform(X.values)\n",
    "X_fts = pd.DataFrame(columns = X.columns, data = X_fts, index = X.index)"
   ]
  },
  {
   "cell_type": "code",
   "execution_count": 81,
   "metadata": {
    "pycharm": {
     "name": "#%%\n"
    }
   },
   "outputs": [],
   "source": [
    "def lstm(data, steps):\n",
    "    X, y = [], []\n",
    "    for i in range (len(data) - steps + 1):\n",
    "        X.append(data[i: i + steps, : -1])\n",
    "        y.append(data[i + steps -1, -1])\n",
    "    X_train, y_train = np.array(X), np.array(y)\n",
    "    return X_train, y_train"
   ]
  },
  {
   "cell_type": "code",
   "execution_count": 82,
   "metadata": {
    "pycharm": {
     "name": "#%%\n"
    }
   },
   "outputs": [
    {
     "name": "stdout",
     "output_type": "stream",
     "text": [
      "[[[ 0.53895132  0.5390017   0.5386227 ]\n",
      "  [ 0.4312827   0.43120385  0.43143587]]\n",
      "\n",
      " [[ 0.4312827   0.43120385  0.43143587]\n",
      "  [ 0.63717196  0.6378573   0.63714289]]\n",
      "\n",
      " [[ 0.63717196  0.6378573   0.63714289]\n",
      "  [ 0.95492544  0.9546648   0.95517888]]\n",
      "\n",
      " ...\n",
      "\n",
      " [[-1.09060864 -1.09157978 -1.08964067]\n",
      "  [-1.05554896 -1.05625702 -1.05466177]]\n",
      "\n",
      " [[-1.05554896 -1.05625702 -1.05466177]\n",
      "  [-1.52064255 -1.52150074 -1.5199094 ]]\n",
      "\n",
      " [[-1.52064255 -1.52150074 -1.5199094 ]\n",
      "  [-1.53438327 -1.53520965 -1.53360603]]]\n",
      "152\n",
      "-----\n",
      "(189, 2, 3) (152, 2, 3) (37, 2, 3) (190,)\n"
     ]
    }
   ],
   "source": [
    "import numpy as np\n",
    "X1, y1 = lstm(X_fts.values, 2)\n",
    "print(X1)\n",
    "train_split = .8\n",
    "split_index = int(np.ceil(len(X1) * train_split))\n",
    "print(split_index)\n",
    "print(\"-----\")\n",
    "date_index = X_fts.index\n",
    "X_train, X_test = X1[:split_index], X1[split_index:]\n",
    "y_train, t_test = y1[:split_index], y1[split_index:]\n",
    "X_train_date, X_test_date = date_index[:split_index], date_index[split_index:]\n",
    "print(X1.shape, X_train.shape, X_test.shape,y_bar.shape)"
   ]
  },
  {
   "cell_type": "code",
   "execution_count": 85,
   "metadata": {
    "pycharm": {
     "name": "#%%\n"
    }
   },
   "outputs": [
    {
     "name": "stdout",
     "output_type": "stream",
     "text": [
      "WARNING:tensorflow:Layer lstm_8 will not use cuDNN kernels since it doesn't meet the criteria. It will use a generic GPU kernel as fallback when running on GPU.\n",
      "Model: \"sequential_8\"\n",
      "_________________________________________________________________\n",
      " Layer (type)                Output Shape              Param #   \n",
      "=================================================================\n",
      " lstm_8 (LSTM)               (None, 2, 32)             4608      \n",
      "                                                                 \n",
      " dense (Dense)               (None, 2, 1)              33        \n",
      "                                                                 \n",
      "=================================================================\n",
      "Total params: 4,641\n",
      "Trainable params: 4,641\n",
      "Non-trainable params: 0\n",
      "_________________________________________________________________\n"
     ]
    }
   ],
   "source": [
    "from keras.models import Sequential\n",
    "from keras.layers import LSTM\n",
    "from keras.layers import Dropout\n",
    "from keras.layers import Dense\n",
    "lstm_model = Sequential()\n",
    "lstm_model.add(LSTM(units=32,return_sequences=True,input_shape=(X_train.shape[1], X_train.shape[2]), activation='relu'))\n",
    "lstm_model.add(Dense(1))\n",
    "lstm_model.compile(loss='mean_squared_error', optimizer='adam')\n",
    "lstm_model.summary()"
   ]
  },
  {
   "cell_type": "code",
   "execution_count": 86,
   "metadata": {
    "pycharm": {
     "name": "#%%\n"
    }
   },
   "outputs": [
    {
     "name": "stdout",
     "output_type": "stream",
     "text": [
      "Epoch 1/100\n"
     ]
    },
    {
     "name": "stderr",
     "output_type": "stream",
     "text": [
      "2022-10-11 15:58:50.902163: I tensorflow/core/grappler/optimizers/custom_graph_optimizer_registry.cc:113] Plugin optimizer for device_type GPU is enabled.\n"
     ]
    },
    {
     "name": "stdout",
     "output_type": "stream",
     "text": [
      "38/38 - 2s - loss: 0.9129 - 2s/epoch - 61ms/step\n",
      "Epoch 2/100\n",
      "38/38 - 0s - loss: 0.7527 - 397ms/epoch - 10ms/step\n",
      "Epoch 3/100\n",
      "38/38 - 0s - loss: 0.6194 - 374ms/epoch - 10ms/step\n",
      "Epoch 4/100\n",
      "38/38 - 0s - loss: 0.4413 - 384ms/epoch - 10ms/step\n",
      "Epoch 5/100\n",
      "38/38 - 0s - loss: 0.2533 - 376ms/epoch - 10ms/step\n",
      "Epoch 6/100\n",
      "38/38 - 0s - loss: 0.1659 - 366ms/epoch - 10ms/step\n",
      "Epoch 7/100\n",
      "38/38 - 0s - loss: 0.1490 - 364ms/epoch - 10ms/step\n",
      "Epoch 8/100\n",
      "38/38 - 0s - loss: 0.1351 - 364ms/epoch - 10ms/step\n",
      "Epoch 9/100\n",
      "38/38 - 0s - loss: 0.1197 - 373ms/epoch - 10ms/step\n",
      "Epoch 10/100\n",
      "38/38 - 0s - loss: 0.1027 - 471ms/epoch - 12ms/step\n",
      "Epoch 11/100\n",
      "38/38 - 0s - loss: 0.0844 - 439ms/epoch - 12ms/step\n",
      "Epoch 12/100\n",
      "38/38 - 0s - loss: 0.0669 - 358ms/epoch - 9ms/step\n",
      "Epoch 13/100\n",
      "38/38 - 0s - loss: 0.0536 - 366ms/epoch - 10ms/step\n",
      "Epoch 14/100\n",
      "38/38 - 0s - loss: 0.0449 - 369ms/epoch - 10ms/step\n",
      "Epoch 15/100\n",
      "38/38 - 0s - loss: 0.0387 - 345ms/epoch - 9ms/step\n",
      "Epoch 16/100\n",
      "38/38 - 0s - loss: 0.0339 - 348ms/epoch - 9ms/step\n",
      "Epoch 17/100\n",
      "38/38 - 0s - loss: 0.0309 - 351ms/epoch - 9ms/step\n",
      "Epoch 18/100\n",
      "38/38 - 0s - loss: 0.0291 - 352ms/epoch - 9ms/step\n",
      "Epoch 19/100\n",
      "38/38 - 0s - loss: 0.0282 - 349ms/epoch - 9ms/step\n",
      "Epoch 20/100\n",
      "38/38 - 0s - loss: 0.0278 - 352ms/epoch - 9ms/step\n",
      "Epoch 21/100\n",
      "38/38 - 0s - loss: 0.0277 - 358ms/epoch - 9ms/step\n",
      "Epoch 22/100\n",
      "38/38 - 0s - loss: 0.0275 - 354ms/epoch - 9ms/step\n",
      "Epoch 23/100\n",
      "38/38 - 0s - loss: 0.0274 - 351ms/epoch - 9ms/step\n",
      "Epoch 24/100\n",
      "38/38 - 0s - loss: 0.0272 - 384ms/epoch - 10ms/step\n",
      "Epoch 25/100\n",
      "38/38 - 0s - loss: 0.0271 - 417ms/epoch - 11ms/step\n",
      "Epoch 26/100\n",
      "38/38 - 0s - loss: 0.0268 - 374ms/epoch - 10ms/step\n",
      "Epoch 27/100\n",
      "38/38 - 0s - loss: 0.0268 - 372ms/epoch - 10ms/step\n",
      "Epoch 28/100\n",
      "38/38 - 0s - loss: 0.0267 - 373ms/epoch - 10ms/step\n",
      "Epoch 29/100\n",
      "38/38 - 0s - loss: 0.0270 - 367ms/epoch - 10ms/step\n",
      "Epoch 30/100\n",
      "38/38 - 0s - loss: 0.0270 - 379ms/epoch - 10ms/step\n",
      "Epoch 31/100\n",
      "38/38 - 0s - loss: 0.0277 - 361ms/epoch - 9ms/step\n",
      "Epoch 32/100\n",
      "38/38 - 0s - loss: 0.0287 - 365ms/epoch - 10ms/step\n",
      "Epoch 33/100\n",
      "38/38 - 0s - loss: 0.0298 - 382ms/epoch - 10ms/step\n",
      "Epoch 34/100\n",
      "38/38 - 0s - loss: 0.0309 - 364ms/epoch - 10ms/step\n",
      "Epoch 35/100\n",
      "38/38 - 0s - loss: 0.0293 - 361ms/epoch - 9ms/step\n",
      "Epoch 36/100\n",
      "38/38 - 0s - loss: 0.0293 - 358ms/epoch - 9ms/step\n",
      "Epoch 37/100\n",
      "38/38 - 0s - loss: 0.0279 - 378ms/epoch - 10ms/step\n",
      "Epoch 38/100\n",
      "38/38 - 0s - loss: 0.0276 - 366ms/epoch - 10ms/step\n",
      "Epoch 39/100\n",
      "38/38 - 0s - loss: 0.0272 - 371ms/epoch - 10ms/step\n",
      "Epoch 40/100\n",
      "38/38 - 0s - loss: 0.0269 - 361ms/epoch - 10ms/step\n",
      "Epoch 41/100\n",
      "38/38 - 0s - loss: 0.0267 - 368ms/epoch - 10ms/step\n",
      "Epoch 42/100\n",
      "38/38 - 0s - loss: 0.0264 - 363ms/epoch - 10ms/step\n",
      "Epoch 43/100\n",
      "38/38 - 0s - loss: 0.0264 - 364ms/epoch - 10ms/step\n",
      "Epoch 44/100\n",
      "38/38 - 0s - loss: 0.0263 - 381ms/epoch - 10ms/step\n",
      "Epoch 45/100\n",
      "38/38 - 0s - loss: 0.0263 - 356ms/epoch - 9ms/step\n",
      "Epoch 46/100\n",
      "38/38 - 0s - loss: 0.0262 - 354ms/epoch - 9ms/step\n",
      "Epoch 47/100\n",
      "38/38 - 0s - loss: 0.0262 - 357ms/epoch - 9ms/step\n",
      "Epoch 48/100\n",
      "38/38 - 0s - loss: 0.0262 - 359ms/epoch - 9ms/step\n",
      "Epoch 49/100\n",
      "38/38 - 0s - loss: 0.0263 - 361ms/epoch - 10ms/step\n",
      "Epoch 50/100\n",
      "38/38 - 0s - loss: 0.0263 - 364ms/epoch - 10ms/step\n",
      "Epoch 51/100\n",
      "38/38 - 0s - loss: 0.0264 - 362ms/epoch - 10ms/step\n",
      "Epoch 52/100\n",
      "38/38 - 0s - loss: 0.0265 - 366ms/epoch - 10ms/step\n",
      "Epoch 53/100\n",
      "38/38 - 0s - loss: 0.0268 - 362ms/epoch - 10ms/step\n",
      "Epoch 54/100\n",
      "38/38 - 0s - loss: 0.0270 - 359ms/epoch - 9ms/step\n",
      "Epoch 55/100\n",
      "38/38 - 0s - loss: 0.0272 - 364ms/epoch - 10ms/step\n",
      "Epoch 56/100\n",
      "38/38 - 0s - loss: 0.0277 - 365ms/epoch - 10ms/step\n",
      "Epoch 57/100\n",
      "38/38 - 0s - loss: 0.0278 - 353ms/epoch - 9ms/step\n",
      "Epoch 58/100\n",
      "38/38 - 0s - loss: 0.0284 - 353ms/epoch - 9ms/step\n",
      "Epoch 59/100\n",
      "38/38 - 0s - loss: 0.0282 - 359ms/epoch - 9ms/step\n",
      "Epoch 60/100\n",
      "38/38 - 0s - loss: 0.0288 - 352ms/epoch - 9ms/step\n",
      "Epoch 61/100\n",
      "38/38 - 0s - loss: 0.0282 - 357ms/epoch - 9ms/step\n",
      "Epoch 62/100\n",
      "38/38 - 0s - loss: 0.0286 - 365ms/epoch - 10ms/step\n",
      "Epoch 63/100\n",
      "38/38 - 0s - loss: 0.0279 - 371ms/epoch - 10ms/step\n",
      "Epoch 64/100\n",
      "38/38 - 0s - loss: 0.0281 - 359ms/epoch - 9ms/step\n",
      "Epoch 65/100\n",
      "38/38 - 0s - loss: 0.0275 - 358ms/epoch - 9ms/step\n",
      "Epoch 66/100\n",
      "38/38 - 0s - loss: 0.0275 - 362ms/epoch - 10ms/step\n",
      "Epoch 67/100\n",
      "38/38 - 0s - loss: 0.0271 - 356ms/epoch - 9ms/step\n",
      "Epoch 68/100\n",
      "38/38 - 0s - loss: 0.0271 - 361ms/epoch - 10ms/step\n",
      "Epoch 69/100\n",
      "38/38 - 0s - loss: 0.0268 - 360ms/epoch - 9ms/step\n",
      "Epoch 70/100\n",
      "38/38 - 0s - loss: 0.0268 - 360ms/epoch - 9ms/step\n",
      "Epoch 71/100\n",
      "38/38 - 0s - loss: 0.0267 - 359ms/epoch - 9ms/step\n",
      "Epoch 72/100\n",
      "38/38 - 0s - loss: 0.0266 - 360ms/epoch - 9ms/step\n",
      "Epoch 73/100\n",
      "38/38 - 0s - loss: 0.0266 - 361ms/epoch - 10ms/step\n",
      "Epoch 74/100\n",
      "38/38 - 0s - loss: 0.0266 - 360ms/epoch - 9ms/step\n",
      "Epoch 75/100\n",
      "38/38 - 0s - loss: 0.0266 - 360ms/epoch - 9ms/step\n",
      "Epoch 76/100\n",
      "38/38 - 0s - loss: 0.0266 - 358ms/epoch - 9ms/step\n",
      "Epoch 77/100\n",
      "38/38 - 0s - loss: 0.0267 - 359ms/epoch - 9ms/step\n",
      "Epoch 78/100\n",
      "38/38 - 0s - loss: 0.0267 - 358ms/epoch - 9ms/step\n",
      "Epoch 79/100\n",
      "38/38 - 0s - loss: 0.0268 - 370ms/epoch - 10ms/step\n",
      "Epoch 80/100\n",
      "38/38 - 0s - loss: 0.0269 - 367ms/epoch - 10ms/step\n",
      "Epoch 81/100\n",
      "38/38 - 0s - loss: 0.0269 - 360ms/epoch - 9ms/step\n",
      "Epoch 82/100\n",
      "38/38 - 0s - loss: 0.0271 - 353ms/epoch - 9ms/step\n",
      "Epoch 83/100\n",
      "38/38 - 0s - loss: 0.0271 - 357ms/epoch - 9ms/step\n",
      "Epoch 84/100\n",
      "38/38 - 0s - loss: 0.0273 - 357ms/epoch - 9ms/step\n",
      "Epoch 85/100\n",
      "38/38 - 0s - loss: 0.0272 - 356ms/epoch - 9ms/step\n",
      "Epoch 86/100\n",
      "38/38 - 0s - loss: 0.0275 - 361ms/epoch - 10ms/step\n",
      "Epoch 87/100\n",
      "38/38 - 0s - loss: 0.0273 - 363ms/epoch - 10ms/step\n",
      "Epoch 88/100\n",
      "38/38 - 0s - loss: 0.0275 - 364ms/epoch - 10ms/step\n",
      "Epoch 89/100\n",
      "38/38 - 0s - loss: 0.0273 - 361ms/epoch - 9ms/step\n",
      "Epoch 90/100\n",
      "38/38 - 0s - loss: 0.0274 - 362ms/epoch - 10ms/step\n",
      "Epoch 91/100\n",
      "38/38 - 0s - loss: 0.0272 - 361ms/epoch - 9ms/step\n",
      "Epoch 92/100\n",
      "38/38 - 0s - loss: 0.0273 - 365ms/epoch - 10ms/step\n",
      "Epoch 93/100\n",
      "38/38 - 0s - loss: 0.0271 - 362ms/epoch - 10ms/step\n",
      "Epoch 94/100\n",
      "38/38 - 0s - loss: 0.0271 - 358ms/epoch - 9ms/step\n",
      "Epoch 95/100\n",
      "38/38 - 0s - loss: 0.0270 - 359ms/epoch - 9ms/step\n",
      "Epoch 96/100\n",
      "38/38 - 0s - loss: 0.0270 - 358ms/epoch - 9ms/step\n",
      "Epoch 97/100\n",
      "38/38 - 0s - loss: 0.0268 - 358ms/epoch - 9ms/step\n",
      "Epoch 98/100\n",
      "38/38 - 0s - loss: 0.0269 - 362ms/epoch - 10ms/step\n",
      "Epoch 99/100\n",
      "38/38 - 0s - loss: 0.0268 - 366ms/epoch - 10ms/step\n",
      "Epoch 100/100\n",
      "38/38 - 0s - loss: 0.0268 - 366ms/epoch - 10ms/step\n"
     ]
    }
   ],
   "source": [
    "history = lstm_model.fit(X_train,y_train, epochs= 100, batch_size= 4, verbose=2, shuffle=False)"
   ]
  },
  {
   "cell_type": "code",
   "execution_count": 107,
   "outputs": [
    {
     "name": "stdout",
     "output_type": "stream",
     "text": [
      "2/2 [==============================] - 0s 9ms/step\n",
      "37\n"
     ]
    }
   ],
   "source": [
    "y_pred = lstm_model.predict(X_test)\n",
    "print(len(y_pred))"
   ],
   "metadata": {
    "collapsed": false,
    "pycharm": {
     "name": "#%%\n"
    }
   }
  },
  {
   "cell_type": "code",
   "execution_count": 124,
   "outputs": [
    {
     "name": "stdout",
     "output_type": "stream",
     "text": [
      "[-1.3553994]\n",
      "[-1.3367457]\n",
      "[-1.2822708]\n",
      "[-1.1930875]\n",
      "[-1.1992712]\n",
      "[-1.2431219]\n",
      "[-1.3053348]\n",
      "[-1.3727936]\n",
      "[-1.388401]\n",
      "[-1.338454]\n",
      "[-1.2818599]\n",
      "[-1.2708886]\n",
      "[-1.2395737]\n",
      "[-1.1837635]\n",
      "[-1.1186433]\n",
      "[-1.0225787]\n",
      "[-1.0694909]\n",
      "[-1.0564253]\n",
      "[-1.1101012]\n",
      "[-1.1028175]\n",
      "[-1.1637284]\n",
      "[-1.2501445]\n",
      "[-1.1999352]\n",
      "[-1.0485284]\n",
      "[-0.9883678]\n",
      "[-0.97037077]\n",
      "[-0.99561]\n",
      "[-1.0424488]\n",
      "[-1.0690993]\n",
      "[-1.0530832]\n",
      "[-1.0799419]\n",
      "[-1.0630176]\n",
      "[-1.0509046]\n",
      "[-1.0595354]\n",
      "[-1.0327175]\n",
      "[-1.4137747]\n",
      "[-1.4375194]\n"
     ]
    },
    {
     "data": {
      "text/plain": "[<matplotlib.lines.Line2D at 0x2a86f4100>]"
     },
     "execution_count": 124,
     "metadata": {},
     "output_type": "execute_result"
    },
    {
     "data": {
      "text/plain": "<Figure size 432x288 with 1 Axes>",
      "image/png": "[encoded data removed]"
     },
     "metadata": {
      "needs_background": "light"
     },
     "output_type": "display_data"
    }
   ],
   "source": [
    "import matplotlib.pyplot as plt\n",
    "plt.plot(t_test, label=\"True Value\")\n",
    "list = []\n",
    "for i in range(len(y_pred)):\n",
    "    print(y_pred[i][1])\n",
    "    list.append(y_pred[i][0])\n",
    "plt.plot(list, label=\"True Value\")"
   ],
   "metadata": {
    "collapsed": false,
    "pycharm": {
     "name": "#%%\n"
    }
   }
  },
  {
   "cell_type": "code",
   "execution_count": null,
   "outputs": [],
   "source": [],
   "metadata": {
    "collapsed": false,
    "pycharm": {
     "name": "#%%\n"
    }
   }
  }
 ],
 "metadata": {
  "kernelspec": {
   "display_name": "Python 3 (ipykernel)",
   "language": "python",
   "name": "python3"
  },
  "language_info": {
   "codemirror_mode": {
    "name": "ipython",
    "version": 3
   },
   "file_extension": ".py",
   "mimetype": "text/x-python",
   "name": "python",
   "nbconvert_exporter": "python",
   "pygments_lexer": "ipython3",
   "version": "3.9.7"
  }
 },
 "nbformat": 4,
 "nbformat_minor": 1
}